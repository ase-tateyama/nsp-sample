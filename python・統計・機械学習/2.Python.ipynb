{
 "cells": [
  {
   "cell_type": "markdown",
   "id": "f8f5a0bd",
   "metadata": {},
   "source": [
    "# Pythonについて\n",
    "\n",
    "### Pyhtonを学ぶメリット\n",
    "\n",
    "- インタプリタ型言語で初心者が学習しやすい言語です。一方、高度で複雑なプログラミングも可能です。\n",
    "- 数学系の外部ライブラリ（Numpy, matplotlibなど）や、統計・データ処理系の外部ライブラリ（pandas、sklearnなど）が多くの人により開発・公開されています。\n",
    "- 近年、AIや機械学習を目的としてプログラミング言語を学習する人が増えていますが、数学系やデータ分析系のライブラリが豊富に存在しているPythonが選択されることが多く、利用者を増やしています。プログラミング言語の人気ランキングでもPythonは上位に位置しています。\n"
   ]
  },
  {
   "cell_type": "markdown",
   "id": "c7997c76",
   "metadata": {},
   "source": [
    "### 主なデータ型（整数、小数、文字列、bool、日付）\n",
    "- 整数\n",
    "\n",
    "C言語やJavaのint型には桁数の制限がありますが、桁数に制限がありません。\n"
   ]
  },
  {
   "cell_type": "code",
   "execution_count": 5,
   "id": "e7a17f95",
   "metadata": {
    "scrolled": true
   },
   "outputs": [
    {
     "name": "stdout",
     "output_type": "stream",
     "text": [
      "1606938044258990275541962092341162602522202993782792835301376\n"
     ]
    }
   ],
   "source": [
    "# 2の200乗を計算\n",
    "print(2**200)"
   ]
  },
  {
   "cell_type": "markdown",
   "id": "69ca8ea9",
   "metadata": {},
   "source": [
    "- 小数\n",
    "\n",
    "C言語のdouble型（倍精度浮動小数点数）に相当します。"
   ]
  },
  {
   "cell_type": "code",
   "execution_count": 6,
   "id": "c5a0a1e0",
   "metadata": {},
   "outputs": [
    {
     "name": "stdout",
     "output_type": "stream",
     "text": [
      "sys.float_info(max=1.7976931348623157e+308, max_exp=1024, max_10_exp=308, min=2.2250738585072014e-308, min_exp=-1021, min_10_exp=-307, dig=15, mant_dig=53, epsilon=2.220446049250313e-16, radix=2, rounds=1)\n"
     ]
    }
   ],
   "source": [
    "import sys\n",
    "print(sys.float_info)"
   ]
  },
  {
   "cell_type": "markdown",
   "id": "8185c7fe",
   "metadata": {},
   "source": [
    "- 文字列\n",
    "\n",
    "シングルクォート（'）かダブルクォート（\"）の間に文字を入力します。\n"
   ]
  },
  {
   "cell_type": "code",
   "execution_count": 7,
   "id": "47029ff3",
   "metadata": {},
   "outputs": [
    {
     "name": "stdout",
     "output_type": "stream",
     "text": [
      "abc\n",
      "xyz\n"
     ]
    }
   ],
   "source": [
    "print(\"abc\")\n",
    "print('xyz')"
   ]
  },
  {
   "cell_type": "markdown",
   "id": "2af5615b",
   "metadata": {},
   "source": [
    "- bool\n",
    "\n",
    "TrueまたはFlaseで表します\n"
   ]
  },
  {
   "cell_type": "code",
   "execution_count": 8,
   "id": "0f7d042d",
   "metadata": {},
   "outputs": [
    {
     "name": "stdout",
     "output_type": "stream",
     "text": [
      "True\n",
      "False\n"
     ]
    }
   ],
   "source": [
    "print(True)\n",
    "print(False)"
   ]
  },
  {
   "cell_type": "markdown",
   "id": "425a8b21",
   "metadata": {},
   "source": [
    "- 日付\n",
    "\n",
    "標準ライブラリ「datetime」を使用して日付を利用します。\n"
   ]
  },
  {
   "cell_type": "code",
   "execution_count": 12,
   "id": "d397d331",
   "metadata": {},
   "outputs": [
    {
     "name": "stdout",
     "output_type": "stream",
     "text": [
      "2022-02-02 17:26:24.739816\n"
     ]
    }
   ],
   "source": [
    "import datetime\n",
    "print(datetime.datetime.now())"
   ]
  },
  {
   "cell_type": "markdown",
   "id": "23f9fec4",
   "metadata": {},
   "source": [
    "### オブジェクト\n",
    "\n",
    "データは全てオブジェクトとして表されます。\n",
    "標準ライブラリのtype関数を使うとオブジェクトの型を確認できます。\n"
   ]
  },
  {
   "cell_type": "code",
   "execution_count": 11,
   "id": "ef8b7fc5",
   "metadata": {},
   "outputs": [
    {
     "name": "stdout",
     "output_type": "stream",
     "text": [
      "<class 'list'>\n",
      "<class 'int'>\n",
      "<class 'str'>\n"
     ]
    }
   ],
   "source": [
    "# リストの型\n",
    "print(type([1, 2, 3]))\n",
    "# 整数の型\n",
    "print(type(100))\n",
    "# 文字列の型\n",
    "print(type(\"文字列\"))"
   ]
  },
  {
   "cell_type": "markdown",
   "id": "db5c32de",
   "metadata": {},
   "source": [
    "### 主な演算子（算術演算子（四則演算など）、比較演算子、論理演算子）\n",
    "\n",
    "- 算術演算子\n",
    "\n",
    "|演算子|例|説明|\n",
    "|-|-|-|\n",
    "|\\+|a + b|足し算|\n",
    "|\\-|a - b|引き算|\n",
    "|\\*|a * b|掛け算|\n",
    "|\\*\\*|a ** n|aをn回掛けた数（べき乗）|\n",
    "|\\/|a / b|割り算|\n",
    "|\\/\\/|a // b|aをbで割った商の整数値|\n",
    "|\\%|a % b|aをbで割った時の割り切れなかった余り|\n",
    "|\\@|a @ b|行列乗算|\n",
    "|\\<\\<|a<<1|左シフト。ビットを左にずらす。値は2倍になる。|\n",
    "|\\>\\>|a>>1|右シフト。ビットを右にずらす。値は1/2になる。|\n",
    "|\\&|a & b|論理積（AND。両ビットとも1の時1）|\n",
    "|\\||a \\| b|論理和（OR。どちらかのビットが1ならば1）|\n",
    "|\\^|a^b|排他的論理和（XOR。比較したビットの値が異なる時1）|\n",
    "|\\~|-a|ビット反転（NOT。ビットの1と0を反転させる）|\n",
    "|\\:\\=|a := 0|代入式|\n",
    "\n",
    "- 比較演算子\n",
    "\n",
    "|演算子|例|説明|\n",
    "|-|-|-|\n",
    "|\\<|a < b|左の値が右の値より小さい時に、true|\n",
    "|\\>|a > b|左の値が右の値より大きい時に、true|\n",
    "|\\<=|a <= b|左の値が右の値以下の時に、true|\n",
    "|\\>=|a >= b|左の値が右の値以上の時に、true|\n",
    "|\\=\\=|a == b|2つの値がイコールの時に、true|\n",
    "|\\!\\=|a != b|2つの値がイコールでない時に、true|\n",
    "\n",
    "- 論理演算子\n",
    "\n",
    "|演算子|例|説明|\n",
    "|-|-|-|\n",
    "|and|a and b|aとbを両方満たす時に、true|\n",
    "|or|a or b|aまたはbを満たす時に、true|\n",
    "|not|not a|aを満たさない時に、true|"
   ]
  },
  {
   "cell_type": "markdown",
   "id": "405c9e70",
   "metadata": {},
   "source": [
    "### データ構造（リスト、スライス、辞書）\n",
    "\n",
    "以下のデータを例に説明します。\n",
    "- 道内の人口10万人以上の都市名（令和2年1月1日）\n",
    "\n",
    "|都市名|人口|\n",
    "|-|-|\n",
    "|札幌市|1959313|\n",
    "|旭川市|334070|\n",
    "|函館市|255308|\n",
    "|苫小牧市|171242|\n",
    "|釧路市|168086|\n",
    "|帯広市|166043|\n",
    "|江別市|119580|\n",
    "|北見市|116630|\n",
    "|小樽市|114425|\n",
    "\n"
   ]
  },
  {
   "cell_type": "markdown",
   "id": "517bb796",
   "metadata": {},
   "source": [
    "- リスト\n",
    "\n",
    "リストとは複数のデータを一括で扱うための仕組みです。\n",
    "\n"
   ]
  },
  {
   "cell_type": "code",
   "execution_count": 9,
   "id": "581b2d51",
   "metadata": {},
   "outputs": [
    {
     "name": "stdout",
     "output_type": "stream",
     "text": [
      "['札幌市', '旭川市', '函館市', '苫小牧市', '釧路市', '帯広市', '江別市', '北見市', '小樽市']\n"
     ]
    }
   ],
   "source": [
    "# 要素を指定したリスト（人口１０万人以上の道内の都市名）を作成する例\n",
    "cities = [\"札幌市\", \"旭川市\", \"函館市\", \"苫小牧市\", \"釧路市\", \"帯広市\", \"江別市\", \"北見市\", \"小樽市\"]\n",
    "print(cities)\n"
   ]
  },
  {
   "cell_type": "code",
   "execution_count": 16,
   "id": "5c9e7052",
   "metadata": {},
   "outputs": [
    {
     "name": "stdout",
     "output_type": "stream",
     "text": [
      "[0, 1, 2, 3, 4, 5, 6, 7, 8, 9]\n"
     ]
    }
   ],
   "source": [
    "# 遠し番号を生成するrange関数と組み合わせてリストを作成する例\n",
    "nums = list(range(10))\n",
    "print(nums)\n"
   ]
  },
  {
   "cell_type": "code",
   "execution_count": 18,
   "id": "4127d3cb",
   "metadata": {},
   "outputs": [
    {
     "name": "stdout",
     "output_type": "stream",
     "text": [
      "札幌市\n",
      "旭川市\n",
      "函館市\n"
     ]
    }
   ],
   "source": [
    "# インデックスを指定してリストの要素にアクセスできます。\n",
    "print(cities[0])\n",
    "print(cities[1])\n",
    "print(cities[2])\n"
   ]
  },
  {
   "cell_type": "markdown",
   "id": "3c98e595",
   "metadata": {},
   "source": [
    "- スライス\n",
    "\n",
    "スライスは、リストの一部を取り出すこと。\n",
    "リストの添え字に「先頭番号:終了番号」を指定すると、リストの一部を取り出すことができます。\n"
   ]
  },
  {
   "cell_type": "code",
   "execution_count": 19,
   "id": "a4bec25b",
   "metadata": {},
   "outputs": [
    {
     "name": "stdout",
     "output_type": "stream",
     "text": [
      "['札幌市', '旭川市', '函館市']\n"
     ]
    }
   ],
   "source": [
    "# 先頭から３個の要素を取り出します。\n",
    "print(cities[0:3])\n"
   ]
  },
  {
   "cell_type": "markdown",
   "id": "42bb2491",
   "metadata": {},
   "source": [
    "- 辞書\n",
    "\n",
    "辞書は、文字列で要素にアクセスできる仕組みです。\n"
   ]
  },
  {
   "cell_type": "code",
   "execution_count": 4,
   "id": "c7f931c7",
   "metadata": {},
   "outputs": [
    {
     "name": "stdout",
     "output_type": "stream",
     "text": [
      "{'札幌市': 1959313, '旭川市': 334070, '函館市': 255308, '苫小牧市': 171242, '釧路市': 168086, '帯広市': 166043, '江別市': 119580, '北見市': 116630, '小樽市': 114425}\n"
     ]
    }
   ],
   "source": [
    "# 人口１０万人以上の道内の都市名\n",
    "populations = {\"札幌市\":1959313, \"旭川市\":334070, \"函館市\":255308, \"苫小牧市\":171242, \"釧路市\":168086, \"帯広市\":166043, \"江別市\":119580, \"北見市\":116630, \"小樽市\":114425}\n",
    "print(populations)\n"
   ]
  },
  {
   "cell_type": "code",
   "execution_count": 21,
   "id": "7c7cfba0",
   "metadata": {},
   "outputs": [
    {
     "name": "stdout",
     "output_type": "stream",
     "text": [
      "1959313\n",
      "334070\n"
     ]
    }
   ],
   "source": [
    "# 都市名を指定して人口にアクセスできます。\n",
    "print(populations[\"札幌市\"])\n",
    "print(populations[\"旭川市\"])\n"
   ]
  },
  {
   "cell_type": "markdown",
   "id": "4fa89a84",
   "metadata": {},
   "source": [
    "### 制御構造\n",
    "\n",
    "- for文\n",
    "\n",
    "for文は指定された回数分、繰り返す構文です。\n",
    "Pythonでは制御構文のブロックは、インデント（字下げ）で決まります。\n"
   ]
  },
  {
   "cell_type": "code",
   "execution_count": 23,
   "id": "8833af1f",
   "metadata": {},
   "outputs": [
    {
     "name": "stdout",
     "output_type": "stream",
     "text": [
      "札幌市\n",
      "旭川市\n",
      "函館市\n",
      "苫小牧市\n",
      "釧路市\n",
      "帯広市\n",
      "江別市\n",
      "北見市\n",
      "小樽市\n"
     ]
    }
   ],
   "source": [
    "for city in cities:\n",
    "    print(city)\n"
   ]
  },
  {
   "cell_type": "markdown",
   "id": "c0b28caa",
   "metadata": {},
   "source": [
    "- while文\n",
    "\n",
    "while文は条件を満たす間、繰り返す構文です。\n",
    "ループが正常終了した場合、elseの内容が実行されます。\n"
   ]
  },
  {
   "cell_type": "code",
   "execution_count": 10,
   "id": "3b2baa14",
   "metadata": {},
   "outputs": [
    {
     "name": "stdout",
     "output_type": "stream",
     "text": [
      "札幌市\n",
      "旭川市\n",
      "函館市\n",
      "苫小牧市\n",
      "釧路市\n",
      "以上\n"
     ]
    }
   ],
   "source": [
    "# 人口上位５都市\n",
    "i = 0\n",
    "while i < 5:\n",
    "    print(cities[i])\n",
    "    i += 1\n",
    "else:\n",
    "    print('以上')"
   ]
  },
  {
   "cell_type": "markdown",
   "id": "1e181cd0",
   "metadata": {},
   "source": [
    "- if文\n",
    "\n",
    "if文は、条件が成立する場合（または成立しない場合）にブロックを実行する構文です。\n"
   ]
  },
  {
   "cell_type": "code",
   "execution_count": 24,
   "id": "bb3e1f0b",
   "metadata": {},
   "outputs": [
    {
     "name": "stdout",
     "output_type": "stream",
     "text": [
      "苫小牧市 171242\n",
      "釧路市 168086\n",
      "帯広市 166043\n",
      "江別市 119580\n",
      "北見市 116630\n",
      "小樽市 114425\n"
     ]
    }
   ],
   "source": [
    "# 人口20万人未満の市と人口を表示します\n",
    "for city in populations:\n",
    "    if (populations[city] < 200000):\n",
    "        print(city, populations[city])\n"
   ]
  },
  {
   "cell_type": "code",
   "execution_count": 25,
   "id": "7b1b2aa4",
   "metadata": {},
   "outputs": [
    {
     "name": "stdout",
     "output_type": "stream",
     "text": [
      "旭川市 334070\n"
     ]
    }
   ],
   "source": [
    "# 旭川市の人口を表示します。\n",
    "for city in populations:\n",
    "    if (city == \"旭川市\"):\n",
    "        print(city, populations[city])\n"
   ]
  },
  {
   "cell_type": "code",
   "execution_count": 26,
   "id": "1bee78a7",
   "metadata": {},
   "outputs": [
    {
     "name": "stdout",
     "output_type": "stream",
     "text": [
      "旭川市 334070\n",
      "函館市 255308\n",
      "苫小牧市 171242\n",
      "釧路市 168086\n",
      "帯広市 166043\n",
      "江別市 119580\n",
      "北見市 116630\n",
      "小樽市 114425\n"
     ]
    }
   ],
   "source": [
    "# 札幌市以外の人口を表示します。\n",
    "for city in populations:\n",
    "    if (city != \"札幌市\"):\n",
    "        print(city, populations[city])\n"
   ]
  },
  {
   "cell_type": "code",
   "execution_count": 27,
   "id": "9025e20c",
   "metadata": {},
   "outputs": [
    {
     "name": "stdout",
     "output_type": "stream",
     "text": [
      "江別市 119580\n",
      "小樽市 114425\n"
     ]
    }
   ],
   "source": [
    "# 小樽市または江別市の人口を表示します。\n",
    "for city in populations:\n",
    "    if (city == \"小樽市\" or city == \"江別市\"):\n",
    "        print(city, populations[city])\n"
   ]
  },
  {
   "cell_type": "markdown",
   "id": "6a4bc5c7",
   "metadata": {},
   "source": [
    "Python では演算子に優先順位が定義されています。\n",
    "- 算術演算は比較演算よりも優先\n",
    "- 比較演算は論理演算よりも優先\n",
    "- かっこ「()」で囲むとより優先される\n"
   ]
  },
  {
   "cell_type": "code",
   "execution_count": 29,
   "id": "8c65f217",
   "metadata": {},
   "outputs": [
    {
     "name": "stdout",
     "output_type": "stream",
     "text": [
      "札幌市 1959313\n",
      "旭川市 334070\n",
      "苫小牧市 171242\n",
      "釧路市 168086\n",
      "帯広市 166043\n",
      "江別市 119580\n",
      "北見市 116630\n",
      "小樽市 114425\n"
     ]
    }
   ],
   "source": [
    "# 人口20万人以下、または30万人以上で小樽市を除くつもり\n",
    "for city in populations:\n",
    "    if (populations[city] <= 200000 or 300000 <= populations[city] and city != \"小樽市\"):\n",
    "        print(city, populations[city])\n"
   ]
  },
  {
   "cell_type": "markdown",
   "id": "b7ba9a84",
   "metadata": {},
   "source": [
    "小樽市を除いたつもりですが、andはorより優先されるため小樽市も含まれました。\n",
    "or条件をand条件より優先させるため、かっこで囲みました。"
   ]
  },
  {
   "cell_type": "code",
   "execution_count": 30,
   "id": "96f16378",
   "metadata": {},
   "outputs": [
    {
     "name": "stdout",
     "output_type": "stream",
     "text": [
      "札幌市 1959313\n",
      "旭川市 334070\n",
      "苫小牧市 171242\n",
      "釧路市 168086\n",
      "帯広市 166043\n",
      "江別市 119580\n",
      "北見市 116630\n"
     ]
    }
   ],
   "source": [
    "# 人口20万人以下、または30万人以上で小樽市を除く\n",
    "for city in populations:\n",
    "    if ((populations[city] <= 200000 or 300000 <= populations[city]) and city != \"小樽市\"):\n",
    "        print(city, populations[city])"
   ]
  },
  {
   "cell_type": "markdown",
   "id": "961e15d7",
   "metadata": {},
   "source": [
    "### 関数\n",
    "まとまった処理を関数として定義できます。\n",
    "利用者は関数の呼び出し方を知っていればよく、関数内部でどのような処理を行っているのか知らずにすみます（カプセル化）。\n",
    "\n",
    "関数を定義するには「def」キーワードを使用します。\n",
    "関数には、引数（関数に渡すパラメータ）と戻り値（関数の処理結果）を定義することができます。\n",
    "引数や戻り値のない関数も定義することができます。\n",
    "\n",
    "以下は、引数として半径(r)を指定して、戻り値として円の面積(ar)を返す関数の例です。\n"
   ]
  },
  {
   "cell_type": "code",
   "execution_count": 31,
   "id": "ae5a3dfd",
   "metadata": {},
   "outputs": [],
   "source": [
    "# 半径を指定して円の面積を求める\n",
    "def AreaOfCircle(r):\n",
    "    ar = r * r * 3.14\n",
    "    return ar\n"
   ]
  },
  {
   "cell_type": "markdown",
   "id": "1a3b40ae",
   "metadata": {},
   "source": [
    "円の面積を求める関数を呼び出して戻り値を変数に代入後に表示します。\n",
    "利用者は円の面積を計算する公式を知らなくても問題ありません。\n"
   ]
  },
  {
   "cell_type": "code",
   "execution_count": 32,
   "id": "dc8292d7",
   "metadata": {},
   "outputs": [
    {
     "name": "stdout",
     "output_type": "stream",
     "text": [
      "半径5の円の面積:  78.5\n"
     ]
    }
   ],
   "source": [
    "area_circle = AreaOfCircle(5)\n",
    "print(\"半径5の円の面積: \", area_circle)\n"
   ]
  }
 ],
 "metadata": {
  "kernelspec": {
   "display_name": "Python 3 (ipykernel)",
   "language": "python",
   "name": "python3"
  },
  "language_info": {
   "codemirror_mode": {
    "name": "ipython",
    "version": 3
   },
   "file_extension": ".py",
   "mimetype": "text/x-python",
   "name": "python",
   "nbconvert_exporter": "python",
   "pygments_lexer": "ipython3",
   "version": "3.9.4"
  }
 },
 "nbformat": 4,
 "nbformat_minor": 5
}

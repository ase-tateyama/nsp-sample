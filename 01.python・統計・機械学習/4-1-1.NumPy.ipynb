{
 "cells": [
  {
   "cell_type": "markdown",
   "id": "7b49a2cf",
   "metadata": {},
   "source": [
    "# ***NumPy***\n",
    "---\n",
    "NumPyは、数値計算を高速、効率的に行うためのライブラリ。<br>\n",
    "・多次元配列の処理を高速に処理できる。<br>\n",
    "・乱数の生成、統計処理などの科学技術計算を効率的に処理できる。<br>\n",
    "AIに欠かせない機械学習、ディープラーニングで扱う大規模なデータ処理に適しているため、必須のライブラリとなっている。"
   ]
  },
  {
   "cell_type": "markdown",
   "id": "1547f3d6",
   "metadata": {},
   "source": [
    "### ■Numpyの使用\n",
    "NumPyを利用するために、インポートする。<br>"
   ]
  },
  {
   "cell_type": "code",
   "execution_count": 1,
   "id": "e0f9e09f",
   "metadata": {},
   "outputs": [],
   "source": [
    "import numpy as np"
   ]
  },
  {
   "cell_type": "markdown",
   "id": "2b3bc63f",
   "metadata": {},
   "source": [
    "### ■配列の作成\n",
    "array() 関数で配列を作成できる。<br>"
   ]
  },
  {
   "cell_type": "code",
   "execution_count": 2,
   "id": "5afea72a",
   "metadata": {},
   "outputs": [
    {
     "name": "stdout",
     "output_type": "stream",
     "text": [
      "['札幌' '旭川' '函館' '帯広' '釧路']\n"
     ]
    }
   ],
   "source": [
    "# リストから配列を作成\n",
    "data = np.array(['札幌','旭川','函館','帯広','釧路']) \n",
    "print(data)"
   ]
  },
  {
   "cell_type": "markdown",
   "id": "12159353",
   "metadata": {},
   "source": [
    "### ■配列の型\n",
    "NumPyで作成した配列の型は「numpy.ndarray」となる。"
   ]
  },
  {
   "cell_type": "code",
   "execution_count": 3,
   "id": "854e14ef",
   "metadata": {},
   "outputs": [
    {
     "data": {
      "text/plain": [
       "numpy.ndarray"
      ]
     },
     "execution_count": 3,
     "metadata": {},
     "output_type": "execute_result"
    }
   ],
   "source": [
    " # 配列の型 ※type()で確認\n",
    "type(np.array(['札幌','旭川','函館','帯広','釧路']))"
   ]
  },
  {
   "cell_type": "code",
   "execution_count": 4,
   "id": "4b8e6a42",
   "metadata": {},
   "outputs": [
    {
     "data": {
      "text/plain": [
       "int"
      ]
     },
     "execution_count": 4,
     "metadata": {},
     "output_type": "execute_result"
    }
   ],
   "source": [
    "# 他のtypeの結果例\n",
    "type(1)"
   ]
  },
  {
   "cell_type": "code",
   "execution_count": 5,
   "id": "755390ee",
   "metadata": {},
   "outputs": [
    {
     "data": {
      "text/plain": [
       "str"
      ]
     },
     "execution_count": 5,
     "metadata": {},
     "output_type": "execute_result"
    }
   ],
   "source": [
    "type('いち')"
   ]
  },
  {
   "cell_type": "code",
   "execution_count": 6,
   "id": "5d9ab3d7",
   "metadata": {},
   "outputs": [
    {
     "data": {
      "text/plain": [
       "bool"
      ]
     },
     "execution_count": 6,
     "metadata": {},
     "output_type": "execute_result"
    }
   ],
   "source": [
    "type(True)"
   ]
  },
  {
   "cell_type": "markdown",
   "id": "2081c42e",
   "metadata": {},
   "source": [
    "### ■配列の要素型\n",
    "配列の要素には複数の型がある。要素の例は以下のとおり。<br>\n",
    "※配列は型の異なる要素を混在できない。"
   ]
  },
  {
   "cell_type": "markdown",
   "id": "85c1fbf8",
   "metadata": {},
   "source": [
    "\n",
    "|型名|説明|備考|\n",
    "|:----|:----|:----|\n",
    "|numpy.int32|符号付き整数型（32ビット）||\n",
    "|numpy.float64|浮動小数点数型（64ビット） |小数点が付与されて印字される|\n",
    "|numpy.bool|ブール型|数値から真理値への変換では、0 が False で、0 以外が True になる|\n",
    "|numpy.object|Pythonオブジェクト型||"
   ]
  },
  {
   "cell_type": "markdown",
   "id": "43070b0d",
   "metadata": {},
   "source": [
    "array()関数で、dtypeを指定することにより、指定された要素型の配列を作成できる。"
   ]
  },
  {
   "cell_type": "code",
   "execution_count": 7,
   "id": "423b0ce2",
   "metadata": {},
   "outputs": [
    {
     "name": "stdout",
     "output_type": "stream",
     "text": [
      "[-1  0  1]\n"
     ]
    }
   ],
   "source": [
    "# np.int32\n",
    "print(np.array([-1,0,1], dtype='int32'))"
   ]
  },
  {
   "cell_type": "code",
   "execution_count": 8,
   "id": "d461ff38",
   "metadata": {},
   "outputs": [
    {
     "name": "stdout",
     "output_type": "stream",
     "text": [
      "[-1.  0.  1.]\n"
     ]
    }
   ],
   "source": [
    "# np.float64\n",
    "print(np.array([-1,0,1], dtype='float64')) "
   ]
  },
  {
   "cell_type": "code",
   "execution_count": 9,
   "id": "5befcf34",
   "metadata": {},
   "outputs": [
    {
     "name": "stdout",
     "output_type": "stream",
     "text": [
      "[ True False  True]\n"
     ]
    }
   ],
   "source": [
    "# np.bool\n",
    "print(np.array([-1,0,1], dtype='bool'))"
   ]
  },
  {
   "cell_type": "code",
   "execution_count": 10,
   "id": "592fe748",
   "metadata": {
    "scrolled": true
   },
   "outputs": [
    {
     "name": "stdout",
     "output_type": "stream",
     "text": [
      "[-1 0 1]\n"
     ]
    }
   ],
   "source": [
    "# np.object\n",
    "print(np.array([-1,0,1], dtype='object'))"
   ]
  },
  {
   "cell_type": "markdown",
   "id": "44a8f365",
   "metadata": {},
   "source": [
    "astype()関数で、要素型を変換できる。"
   ]
  },
  {
   "cell_type": "code",
   "execution_count": 11,
   "id": "dd4b53b0",
   "metadata": {},
   "outputs": [
    {
     "data": {
      "text/plain": [
       "array([10, 20, 30])"
      ]
     },
     "execution_count": 11,
     "metadata": {},
     "output_type": "execute_result"
    }
   ],
   "source": [
    "# int型の配列を作成\n",
    "data = np.array([10,20,30])\n",
    "data"
   ]
  },
  {
   "cell_type": "code",
   "execution_count": 12,
   "id": "3cd4ab61",
   "metadata": {},
   "outputs": [
    {
     "data": {
      "text/plain": [
       "array([10., 20., 30.], dtype=float32)"
      ]
     },
     "execution_count": 12,
     "metadata": {},
     "output_type": "execute_result"
    }
   ],
   "source": [
    "# dtypeがintの配列から、floatへ変換した配列を作成\n",
    "data_f = data.astype(np.float32)\n",
    "data_f"
   ]
  },
  {
   "cell_type": "markdown",
   "id": "4048292e",
   "metadata": {},
   "source": [
    "### ■2次元配列\n",
    "2次元配列は、配列要素が縦横（行と列）に並ぶ配列である。"
   ]
  },
  {
   "cell_type": "code",
   "execution_count": 13,
   "id": "e45e7d5c",
   "metadata": {
    "scrolled": false
   },
   "outputs": [
    {
     "name": "stdout",
     "output_type": "stream",
     "text": [
      "[[11 12 13 14 15]\n",
      " [21 22 23 24 25]]\n"
     ]
    }
   ],
   "source": [
    "# 2次元配列\n",
    "print(np.array([[11,12,13,14,15],[21,22,23,24,25]]))"
   ]
  },
  {
   "cell_type": "markdown",
   "id": "78e15929",
   "metadata": {},
   "source": [
    "行の長さが異なる場合、2次元配列とはならず、エラーとなる。"
   ]
  },
  {
   "cell_type": "code",
   "execution_count": 14,
   "id": "17058039",
   "metadata": {
    "scrolled": false
   },
   "outputs": [
    {
     "name": "stdout",
     "output_type": "stream",
     "text": [
      "[list([11, 12, 13, 14, 15]) list([21, 22, 23, 24])]\n"
     ]
    },
    {
     "name": "stderr",
     "output_type": "stream",
     "text": [
      "C:\\Users\\kita_m\\AppData\\Local\\Temp/ipykernel_14188/4166396032.py:2: VisibleDeprecationWarning: Creating an ndarray from ragged nested sequences (which is a list-or-tuple of lists-or-tuples-or ndarrays with different lengths or shapes) is deprecated. If you meant to do this, you must specify 'dtype=object' when creating the ndarray.\n",
      "  print(np.array([[11,12,13,14,15],[21,22,23,24]]))\n"
     ]
    }
   ],
   "source": [
    "# 行の長さが異なる\n",
    "print(np.array([[11,12,13,14,15],[21,22,23,24]]))"
   ]
  },
  {
   "cell_type": "markdown",
   "id": "4ccf15b7",
   "metadata": {},
   "source": [
    "reshape()関数を使用すると、１次元配列を引数で指定された形の多次元配列に変換することができる。"
   ]
  },
  {
   "cell_type": "code",
   "execution_count": 15,
   "id": "9e9a61c5",
   "metadata": {
    "scrolled": true
   },
   "outputs": [
    {
     "name": "stdout",
     "output_type": "stream",
     "text": [
      "[[11 12 13 14 15]\n",
      " [21 22 23 24 25]]\n"
     ]
    }
   ],
   "source": [
    "#１次元配列\n",
    "data1 = np.array([11,12,13,14,15,21,22,23,24,25])\n",
    "\n",
    "#２次元配列（2×5）\n",
    "data2 = data1.reshape(2,5)\n",
    "print(data2)"
   ]
  },
  {
   "cell_type": "code",
   "execution_count": 16,
   "id": "d9cea2c7",
   "metadata": {},
   "outputs": [
    {
     "name": "stdout",
     "output_type": "stream",
     "text": [
      "[[11 12 13]\n",
      " [21 22 23]\n",
      " [31 32 33]]\n"
     ]
    }
   ],
   "source": [
    "#１次元配列\n",
    "data1 = np.array([11,12,13,21,22,23,31,32,33])\n",
    "\n",
    "#３次元配列（3×3）\n",
    "data2 = data1.reshape(3,3)\n",
    "print(data2)"
   ]
  },
  {
   "cell_type": "markdown",
   "id": "0d1e434b",
   "metadata": {},
   "source": [
    "### ■配列のデータ属性\n",
    "配列はオブジェクトであり、データ属性を持つ。データ属性の例は以下のとおり。\n",
    "\n",
    "|属性|意味|\n",
    "|:----|:----|\n",
    "|data.dtype|配列「data」の要素型を確認する|\n",
    "|data.shape|配列「data」の要素数を確認する|\n",
    "|data.T|配列「data」を転置した配列を求める|"
   ]
  },
  {
   "cell_type": "code",
   "execution_count": 17,
   "id": "d2bdc94b",
   "metadata": {},
   "outputs": [
    {
     "name": "stdout",
     "output_type": "stream",
     "text": [
      "int32\n",
      "(6,)\n",
      "[[11 21]\n",
      " [12 22]\n",
      " [13 23]]\n"
     ]
    }
   ],
   "source": [
    "data = np.array([11,12,13,21,22,23])\n",
    "# dtype\n",
    "print(data.dtype)\n",
    "\n",
    "# shape\n",
    "print(data.shape)\n",
    "\n",
    "# T\n",
    "data2 = data.reshape(2,3)\n",
    "data_t = data2.T\n",
    "print(data_t)"
   ]
  },
  {
   "cell_type": "markdown",
   "id": "34bbbf0d",
   "metadata": {},
   "source": [
    "### ■配列要素を生成する関数\n",
    "数値が連続した配列を関数により自動生成することができる。関数の例は以下のとおり。<br>"
   ]
  },
  {
   "cell_type": "markdown",
   "id": "d2cb00a5",
   "metadata": {},
   "source": [
    "#### ・arange\n",
    "arange()関数は、連番や等差数列を生成することができる。<br>\n",
    "引数は、開始値（省略可でデフォルト：0）、終了値、間隔（省略可でデフォルト：1）。<br>"
   ]
  },
  {
   "cell_type": "code",
   "execution_count": 18,
   "id": "6805bdf0",
   "metadata": {},
   "outputs": [
    {
     "name": "stdout",
     "output_type": "stream",
     "text": [
      "[0 1 2]\n",
      "[1.   1.25 1.5  1.75]\n"
     ]
    }
   ],
   "source": [
    "# range(3)に対応する配列\n",
    "print(np.arange(3)) \n",
    "\n",
    "# 1を開始値として0.25刻みで2未満の要素を生成\n",
    "print(np.arange(1, 2, 0.25)) "
   ]
  },
  {
   "cell_type": "markdown",
   "id": "f2fd37f4",
   "metadata": {},
   "source": [
    "reshape()関数を使用し、生成した配列を多次元配列に変換することもできる。"
   ]
  },
  {
   "cell_type": "code",
   "execution_count": 19,
   "id": "d3f895c1",
   "metadata": {},
   "outputs": [
    {
     "data": {
      "text/plain": [
       "array([[ 0,  1,  2],\n",
       "       [ 3,  4,  5],\n",
       "       [ 6,  7,  8],\n",
       "       [ 9, 10, 11],\n",
       "       [12, 13, 14]])"
      ]
     },
     "execution_count": 19,
     "metadata": {},
     "output_type": "execute_result"
    }
   ],
   "source": [
    "np.arange(15).reshape(5,3)"
   ]
  },
  {
   "cell_type": "markdown",
   "id": "f3516462",
   "metadata": {},
   "source": [
    "#### ・linspace\n",
    "linspace()関数は、範囲を等分割した等差数列を生成する。<br>\n",
    "引数は、開始値、終了値、要素数。"
   ]
  },
  {
   "cell_type": "code",
   "execution_count": 20,
   "id": "54543ee8",
   "metadata": {},
   "outputs": [
    {
     "name": "stdout",
     "output_type": "stream",
     "text": [
      "[0.   0.25 0.5  0.75 1.  ]\n",
      "[0.         0.33333333 0.66666667 1.        ]\n"
     ]
    }
   ],
   "source": [
    "# 0から1の値を5分割した値を要素に持つ配列\n",
    "print(np.linspace(0, 1, 5)) \n",
    "\n",
    "# 0から1の値を4分割した値を要素に持つ配列\n",
    "print(np.linspace(0, 1, 4)) "
   ]
  },
  {
   "cell_type": "markdown",
   "id": "ec1a7cc5",
   "metadata": {},
   "source": [
    "#### ・random.rand\n",
    "random.rand()関数は、0 以上 1 未満の乱数の配列を生成する。<br>\n",
    "引数は、配列の次元数（負の整数は不可）。<br>"
   ]
  },
  {
   "cell_type": "code",
   "execution_count": 21,
   "id": "ff894b74",
   "metadata": {},
   "outputs": [
    {
     "name": "stdout",
     "output_type": "stream",
     "text": [
      "[0.20405951 0.89807073 0.46075681 0.53235152 0.09694713]\n",
      "[[0.59756775 0.99513276 0.73201168 0.44390054 0.69524877]\n",
      " [0.53953125 0.54402146 0.18345508 0.02692603 0.43234952]]\n"
     ]
    }
   ],
   "source": [
    "# 長さ5の1次元配列\n",
    "print(np.random.rand(5))\n",
    "\n",
    "# 2×5の2次元配列を生成\n",
    "print(np.random.rand(2,5))"
   ]
  },
  {
   "cell_type": "markdown",
   "id": "0c2ba914",
   "metadata": {},
   "source": [
    "他の乱数からなる配列を生成する関数は以下のとおり。<br>\n",
    "・random.randn()関数は、正規分布の乱数からなる配列。<br>\n",
    "・random.binomial()関数は、二項分布の乱数からなる配列。<br>\n",
    "※上記以外に、ポアソン分布やベータ分布などがある。"
   ]
  },
  {
   "cell_type": "code",
   "execution_count": 22,
   "id": "f4cd273f",
   "metadata": {},
   "outputs": [],
   "source": [
    "# グラフ参考表示用のmatplotlibのインポート\n",
    "import matplotlib.pyplot as plt\n",
    "# 「%matplotlib inline」は、notebook内でグラフを表示するために必要\n",
    "%matplotlib inline"
   ]
  },
  {
   "cell_type": "code",
   "execution_count": 23,
   "id": "6430c4e4",
   "metadata": {},
   "outputs": [
    {
     "name": "stdout",
     "output_type": "stream",
     "text": [
      "[ 1.36576092 -0.58874133 -1.07556546 -0.66939144  2.33978477 -0.18354448\n",
      "  0.54181935 -0.98978917 -0.2929401  -0.52682289  0.63392031 -0.55682294\n",
      " -0.44666749 -1.13879031  1.07990673 -0.80077539  0.01577841  1.30950335\n",
      " -0.90239565  0.55964625 -1.23134398  0.38344723 -0.58304351 -0.68233222\n",
      " -0.18496429 -0.26101031  0.24648898 -1.14482442 -0.84277126 -0.23406001\n",
      " -2.51932731  0.97287816 -0.18473429 -0.04612325 -0.33935094  0.64153132\n",
      "  1.36991145  0.02014018  1.76536931 -0.71509213  0.59235691  2.01766189\n",
      " -0.7860168  -1.66319885 -0.03465068  0.67383064 -0.69607683  0.16363703\n",
      " -0.32006602 -1.47993268  1.54583616  1.60284612  1.18375517 -1.63823393\n",
      " -1.09608806  0.92260029  0.232345    1.60485492 -0.08069579 -0.68543954\n",
      "  0.844925   -1.24110269  1.36275933  0.17605616  1.92805383 -0.31533536\n",
      " -0.10597258 -0.9002293   1.00286003  0.61785157  0.2530257   0.66040255\n",
      "  1.84131077 -1.11875293  0.05649087  1.38223422  1.24233978 -0.8827683\n",
      "  0.16810357 -2.26754821  0.76998803 -1.96950006  0.02295538  0.03787205\n",
      " -1.27734064  0.89003461  1.8660761  -0.35503941  0.98297584  0.0903085\n",
      " -0.52530654 -1.08939131  1.7910474   0.26859243 -0.28058092  1.6285857\n",
      " -0.72445001 -0.24139016 -0.1529954  -1.07249223]\n"
     ]
    },
    {
     "data": {
      "image/png": "[encoded data removed]",
      "text/plain": [
       "<Figure size 432x288 with 1 Axes>"
      ]
     },
     "metadata": {
      "needs_background": "light"
     },
     "output_type": "display_data"
    }
   ],
   "source": [
    "# 正規分布\n",
    "data = np.random.randn(100)\n",
    "print(data)\n",
    "plt.hist(data, bins=10); "
   ]
  },
  {
   "cell_type": "code",
   "execution_count": 24,
   "id": "c6c65bdf",
   "metadata": {},
   "outputs": [
    {
     "name": "stdout",
     "output_type": "stream",
     "text": [
      "[ 4  3  5  8  7  5  8 10  3  2  6 11  6  4 10 10  4  9  4  8  8  6  6  9\n",
      "  5  6  5  6  7  5  3  5  5  7  6  4  3 10  5  4  6  5  4  9  6  5  8  9\n",
      "  6  4  3  7  6  7  5  5  8 10  7  5  4  8  2  5  3  4 10  4  4  3  4  5\n",
      "  4  5  9  8 10  9  7  5  6  8  8  6  5  9  9  3  2  6  7  8  9  6  4  4\n",
      "  4 10  2  9  5  6  6  6  3  7  8  7  6  5  4  6  7  7  6  6  8 10  6  6\n",
      "  4  9  5  7  5  7 12  6  8  4 11  7  5  4 10  6  6 10  9  6  4  8  7  6\n",
      "  7  9  7  3  9  5  3  4  7 11  3  7  6  5  4 11 11  3  4  5  7  9  9  6\n",
      "  9  6 10  7  6  3  8  6  5  4  8  8  6  2  8  6  4  5  8  2  6  7  7  7\n",
      "  5 10  5  5  8  5 10  2  5  5  5  7 10  4  5  6 10  8  7  2  9  5  6  9\n",
      "  2  7  6  8  7  8  4  9  9 10  7  2  2  8  9  8  6  1  4  3  5  4  4  6\n",
      "  3  4  6  8  5 11  8  7  7  1  5  7  8  6  5  8  9  8  9  7  6  1  6  7\n",
      "  6  6  3  6  5 11  7  3  8  6  6  7  7  6  4  3 12  6  5  5  5  5 10  7\n",
      "  6  5  7  7  6 10 10  4  0  4  6  5]\n"
     ]
    },
    {
     "data": {
      "image/png": "[encoded data removed]",
      "text/plain": [
       "<Figure size 432x288 with 1 Axes>"
      ]
     },
     "metadata": {
      "needs_background": "light"
     },
     "output_type": "display_data"
    }
   ],
   "source": [
    "# 二項分布\n",
    "# 36回サイコロを投げた場合、１が出る回数（試行回数：36, 確率：1/6, サンプル数：300）\n",
    "data = np.random.binomial(36, 1/6, 300)\n",
    "print(data)\n",
    "plt.hist(data, bins=10); "
   ]
  },
  {
   "cell_type": "markdown",
   "id": "e32819ca",
   "metadata": {},
   "source": [
    "### ■配列要素の操作\n",
    "要素の値や部分的な配列の取得、選択した要素や範囲へ値・配列を代入することができる。"
   ]
  },
  {
   "cell_type": "markdown",
   "id": "af28301e",
   "metadata": {},
   "source": [
    "#### ・インデックスの指定\n",
    "配列の要素にアクセスするには、「0」から始まるインデックス番号を指定する。<br>\n",
    "配列の最後の要素のインデックス番号は「-1」を指定する。"
   ]
  },
  {
   "cell_type": "code",
   "execution_count": 25,
   "id": "16f3e645",
   "metadata": {},
   "outputs": [
    {
     "name": "stdout",
     "output_type": "stream",
     "text": [
      "[0 1 2 3 4 5 6 7 8 9]\n"
     ]
    }
   ],
   "source": [
    "data = np.arange(10)\n",
    "print(data)"
   ]
  },
  {
   "cell_type": "code",
   "execution_count": 26,
   "id": "437f89b9",
   "metadata": {},
   "outputs": [
    {
     "name": "stdout",
     "output_type": "stream",
     "text": [
      "0\n",
      "2\n",
      "9\n"
     ]
    }
   ],
   "source": [
    "# 要素 0\n",
    "print(data[0])\n",
    "\n",
    "# 要素 2\n",
    "print(data[2])\n",
    "\n",
    "# 要素 -1（最後）\n",
    "print(data[-1])"
   ]
  },
  {
   "cell_type": "markdown",
   "id": "8d6989a6",
   "metadata": {},
   "source": [
    "2次元配列の場合は、行のインデックス番号と列のインデックス番号を順に指定する。"
   ]
  },
  {
   "cell_type": "code",
   "execution_count": 27,
   "id": "db785bf7",
   "metadata": {},
   "outputs": [
    {
     "name": "stdout",
     "output_type": "stream",
     "text": [
      "[[ 0  1  2  3]\n",
      " [ 4  5  6  7]\n",
      " [ 8  9 10 11]]\n"
     ]
    }
   ],
   "source": [
    "data = np.arange(12).reshape(3,4)\n",
    "print(data)"
   ]
  },
  {
   "cell_type": "code",
   "execution_count": 28,
   "id": "9b154d2e",
   "metadata": {},
   "outputs": [
    {
     "name": "stdout",
     "output_type": "stream",
     "text": [
      "11\n"
     ]
    }
   ],
   "source": [
    "# 要素 2（行）,3（列）\n",
    "print(data[2,3])"
   ]
  },
  {
   "cell_type": "markdown",
   "id": "e75ed1d5",
   "metadata": {},
   "source": [
    "要素への代入は、要素を指定し、値を設定する。"
   ]
  },
  {
   "cell_type": "code",
   "execution_count": 29,
   "id": "1605b4ac",
   "metadata": {},
   "outputs": [
    {
     "name": "stdout",
     "output_type": "stream",
     "text": [
      "[[ 0  1  2  3]\n",
      " [ 4  5 12  7]\n",
      " [ 8  9 10 11]]\n"
     ]
    }
   ],
   "source": [
    "# 要素 1（行）,2（列）へ12を代入\n",
    "data[1,2] = 12\n",
    "print(data)"
   ]
  },
  {
   "cell_type": "markdown",
   "id": "77f206da",
   "metadata": {},
   "source": [
    "#### ・スライス\n",
    "配列のスライスにより、配列の一部分を選択して抽出、または、別の値の代入が可能である。"
   ]
  },
  {
   "cell_type": "code",
   "execution_count": 30,
   "id": "785620c5",
   "metadata": {
    "scrolled": true
   },
   "outputs": [
    {
     "name": "stdout",
     "output_type": "stream",
     "text": [
      "['札幌' '旭川' '函館' '帯広' '釧路']\n",
      "['旭川' '函館' '帯広']\n",
      "['函館' '帯広' '釧路']\n",
      "['札幌' '旭川' '函館']\n",
      "['札幌' '函館' '釧路']\n",
      "['釧路' '帯広' '函館' '旭川' '札幌']\n"
     ]
    }
   ],
   "source": [
    "# 配列「0：札幌、1：旭川、2：函館、3：帯広、4：釧路」\n",
    "data = np.array(['札幌','旭川','函館','帯広','釧路']) \n",
    "\n",
    "print(data)\n",
    "# 要素1～3\n",
    "print(data[1:4])\n",
    "# 要素2～\n",
    "print(data[2:])\n",
    "# 要素0～2（最後から2つ目の要素の前まで）\n",
    "print(data[:-2])\n",
    "# 要素0から2づつ\n",
    "print(data[::2])\n",
    "# 要素4～0\n",
    "print(data[::-1])"
   ]
  },
  {
   "cell_type": "markdown",
   "id": "06300580",
   "metadata": {},
   "source": [
    "右辺の値をスライスで選択した要素へ代入される。"
   ]
  },
  {
   "cell_type": "code",
   "execution_count": 31,
   "id": "42d7c097",
   "metadata": {},
   "outputs": [
    {
     "name": "stdout",
     "output_type": "stream",
     "text": [
      "['札幌' '旭川' '函館' '帯広' '釧路']\n",
      "['札幌' '苫小' '北見' '稚内' '釧路']\n"
     ]
    }
   ],
   "source": [
    "# 配列「0：札幌、1：旭川、2：函館、3：帯広、4：釧路」\n",
    "data = np.array(['札幌','旭川','函館','帯広','釧路']) \n",
    "print(data)\n",
    "\n",
    "# 配列「1：苫小牧、2：北見、3：稚内」\n",
    "data[1:4] = ['苫小牧','北見','稚内']\n",
    "print(data)"
   ]
  }
 ],
 "metadata": {
  "kernelspec": {
   "display_name": "Python 3 (ipykernel)",
   "language": "python",
   "name": "python3"
  },
  "language_info": {
   "codemirror_mode": {
    "name": "ipython",
    "version": 3
   },
   "file_extension": ".py",
   "mimetype": "text/x-python",
   "name": "python",
   "nbconvert_exporter": "python",
   "pygments_lexer": "ipython3",
   "version": "3.9.4"
  }
 },
 "nbformat": 4,
 "nbformat_minor": 5
}
